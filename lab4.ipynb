{
 "cells": [
  {
   "cell_type": "code",
   "execution_count": 17,
   "metadata": {},
   "outputs": [],
   "source": [
    "import pandas as pd\n",
    "import numpy as np\n",
    "import cv2\n",
    "from random import randint\n",
    "from matplotlib import pyplot as plt"
   ]
  },
  {
   "cell_type": "markdown",
   "metadata": {},
   "source": [
    "# Пункт 1"
   ]
  },
  {
   "cell_type": "code",
   "execution_count": 13,
   "metadata": {},
   "outputs": [
    {
     "name": "stdout",
     "output_type": "stream",
     "text": [
      "Исходный датафрейм\n",
      "                                     Абсолютный путь Класс\n",
      "0     C:\\Users\\misha\\third_lab1\\dataset\\cat\\0001.jpg   cat\n",
      "1     C:\\Users\\misha\\third_lab1\\dataset\\cat\\0002.jpg   cat\n",
      "2     C:\\Users\\misha\\third_lab1\\dataset\\cat\\0003.jpg   cat\n",
      "3     C:\\Users\\misha\\third_lab1\\dataset\\cat\\0004.jpg   cat\n",
      "4     C:\\Users\\misha\\third_lab1\\dataset\\cat\\0005.jpg   cat\n",
      "...                                              ...   ...\n",
      "2033  C:\\Users\\misha\\third_lab1\\dataset\\dog\\1015.jpg   dog\n",
      "2034  C:\\Users\\misha\\third_lab1\\dataset\\dog\\1016.jpg   dog\n",
      "2035  C:\\Users\\misha\\third_lab1\\dataset\\dog\\1017.jpg   dog\n",
      "2036  C:\\Users\\misha\\third_lab1\\dataset\\dog\\1018.jpg   dog\n",
      "2037  C:\\Users\\misha\\third_lab1\\dataset\\dog\\1019.jpg   dog\n",
      "\n",
      "[2038 rows x 2 columns]\n"
     ]
    }
   ],
   "source": [
    "# first\n",
    "df = pd.read_csv('annotation.csv', delimiter=';')\n",
    "print(\"Исходный датафрейм\")\n",
    "print(df)"
   ]
  },
  {
   "cell_type": "markdown",
   "metadata": {},
   "source": [
    "# Пункт 2\n"
   ]
  },
  {
   "cell_type": "code",
   "execution_count": 14,
   "metadata": {},
   "outputs": [
    {
     "name": "stdout",
     "output_type": "stream",
     "text": [
      "датафрейм с измененными колонками в соответствии с рекомендациями\n",
      "                                       absolute_path class_\n",
      "0     C:\\Users\\misha\\third_lab1\\dataset\\cat\\0001.jpg    cat\n",
      "1     C:\\Users\\misha\\third_lab1\\dataset\\cat\\0002.jpg    cat\n",
      "2     C:\\Users\\misha\\third_lab1\\dataset\\cat\\0003.jpg    cat\n",
      "3     C:\\Users\\misha\\third_lab1\\dataset\\cat\\0004.jpg    cat\n",
      "4     C:\\Users\\misha\\third_lab1\\dataset\\cat\\0005.jpg    cat\n",
      "...                                              ...    ...\n",
      "2033  C:\\Users\\misha\\third_lab1\\dataset\\dog\\1015.jpg    dog\n",
      "2034  C:\\Users\\misha\\third_lab1\\dataset\\dog\\1016.jpg    dog\n",
      "2035  C:\\Users\\misha\\third_lab1\\dataset\\dog\\1017.jpg    dog\n",
      "2036  C:\\Users\\misha\\third_lab1\\dataset\\dog\\1018.jpg    dog\n",
      "2037  C:\\Users\\misha\\third_lab1\\dataset\\dog\\1019.jpg    dog\n",
      "\n",
      "[2038 rows x 2 columns]\n"
     ]
    }
   ],
   "source": [
    "df = df.rename(\n",
    "    columns={\"Абсолютный путь\": \"absolute_path\", \"Класс\": \"class_\"})\n",
    "print(\"датафрейм с измененными колонками в соответствии с рекомендациями\")\n",
    "print(df)\n"
   ]
  },
  {
   "cell_type": "markdown",
   "metadata": {},
   "source": [
    "# Пункт 3"
   ]
  },
  {
   "cell_type": "code",
   "execution_count": 15,
   "metadata": {},
   "outputs": [
    {
     "name": "stdout",
     "output_type": "stream",
     "text": [
      "Присваиваивание классам меток\n",
      "                                       absolute_path class_ marks\n",
      "0     C:\\Users\\misha\\third_lab1\\dataset\\cat\\0001.jpg    cat     0\n",
      "1     C:\\Users\\misha\\third_lab1\\dataset\\cat\\0002.jpg    cat     0\n",
      "2     C:\\Users\\misha\\third_lab1\\dataset\\cat\\0003.jpg    cat     0\n",
      "3     C:\\Users\\misha\\third_lab1\\dataset\\cat\\0004.jpg    cat     0\n",
      "4     C:\\Users\\misha\\third_lab1\\dataset\\cat\\0005.jpg    cat     0\n",
      "...                                              ...    ...   ...\n",
      "2033  C:\\Users\\misha\\third_lab1\\dataset\\dog\\1015.jpg    dog     1\n",
      "2034  C:\\Users\\misha\\third_lab1\\dataset\\dog\\1016.jpg    dog     1\n",
      "2035  C:\\Users\\misha\\third_lab1\\dataset\\dog\\1017.jpg    dog     1\n",
      "2036  C:\\Users\\misha\\third_lab1\\dataset\\dog\\1018.jpg    dog     1\n",
      "2037  C:\\Users\\misha\\third_lab1\\dataset\\dog\\1019.jpg    dog     1\n",
      "\n",
      "[2038 rows x 3 columns]\n"
     ]
    }
   ],
   "source": [
    "df['marks'] = df['class_'].apply(lambda x: '0' if x == 'cat' else '1')\n",
    "print(\"Присваиваивание классам меток\")\n",
    "print(df)"
   ]
  },
  {
   "cell_type": "markdown",
   "metadata": {},
   "source": [
    "# Пункт 4\n"
   ]
  },
  {
   "cell_type": "code",
   "execution_count": 18,
   "metadata": {},
   "outputs": [
    {
     "name": "stdout",
     "output_type": "stream",
     "text": [
      "Добавление высоты|ширины|размера изображений\n",
      "                                       absolute_path class_ marks  height  \\\n",
      "0     C:\\Users\\misha\\third_lab1\\dataset\\cat\\0001.jpg    cat     0     319   \n",
      "1     C:\\Users\\misha\\third_lab1\\dataset\\cat\\0002.jpg    cat     0     320   \n",
      "2     C:\\Users\\misha\\third_lab1\\dataset\\cat\\0003.jpg    cat     0     300   \n",
      "3     C:\\Users\\misha\\third_lab1\\dataset\\cat\\0004.jpg    cat     0     320   \n",
      "4     C:\\Users\\misha\\third_lab1\\dataset\\cat\\0005.jpg    cat     0     320   \n",
      "...                                              ...    ...   ...     ...   \n",
      "2033  C:\\Users\\misha\\third_lab1\\dataset\\dog\\1015.jpg    dog     1     320   \n",
      "2034  C:\\Users\\misha\\third_lab1\\dataset\\dog\\1016.jpg    dog     1     320   \n",
      "2035  C:\\Users\\misha\\third_lab1\\dataset\\dog\\1017.jpg    dog     1     320   \n",
      "2036  C:\\Users\\misha\\third_lab1\\dataset\\dog\\1018.jpg    dog     1     320   \n",
      "2037  C:\\Users\\misha\\third_lab1\\dataset\\dog\\1019.jpg    dog     1     320   \n",
      "\n",
      "      width  channels    size  \n",
      "0       480         3  459360  \n",
      "1       382         3  366720  \n",
      "2       480         3  432000  \n",
      "3       480         3  460800  \n",
      "4       480         3  460800  \n",
      "...     ...       ...     ...  \n",
      "2033    214         3  205440  \n",
      "2034    458         3  439680  \n",
      "2035    480         3  460800  \n",
      "2036    427         3  409920  \n",
      "2037    209         3  200640  \n",
      "\n",
      "[2038 rows x 7 columns]\n"
     ]
    }
   ],
   "source": [
    "height_list = []\n",
    "width_list = []\n",
    "channels_list = []\n",
    "size_list = []\n",
    "absolute_path_list = df.absolute_path.tolist()\n",
    "for row in absolute_path_list:\n",
    "    image = cv2.imread(row)\n",
    "    height_list.append(image.shape[0])\n",
    "    width_list.append(image.shape[1])\n",
    "    channels_list.append(image.shape[2])\n",
    "    size_list.append(image.size)\n",
    "df[\"height\"] = height_list\n",
    "df[\"width\"] = width_list\n",
    "df[\"channels\"] = channels_list\n",
    "df[\"size\"] = size_list\n",
    "print(\"Добавление высоты|ширины|размера изображений\")\n",
    "print(df)"
   ]
  },
  {
   "cell_type": "markdown",
   "metadata": {},
   "source": [
    "# Пункт 5"
   ]
  },
  {
   "cell_type": "code",
   "execution_count": 19,
   "metadata": {},
   "outputs": [
    {
     "name": "stdout",
     "output_type": "stream",
     "text": [
      "Статистика\n",
      "            height        width  channels\n",
      "count  2038.000000  2038.000000    2038.0\n",
      "mean    309.541708   441.331698       3.0\n",
      "std      16.574729    69.630421       0.0\n",
      "min     217.000000   180.000000       3.0\n",
      "25%     300.000000   427.000000       3.0\n",
      "50%     320.000000   480.000000       3.0\n",
      "75%     320.000000   480.000000       3.0\n",
      "max     320.000000   480.000000       3.0\n"
     ]
    }
   ],
   "source": [
    "print(\"Статистика\")\n",
    "print(df[[\"height\", \"width\", \"channels\"]].describe())"
   ]
  },
  {
   "cell_type": "markdown",
   "metadata": {},
   "source": [
    "# Пункт 6\n"
   ]
  },
  {
   "cell_type": "code",
   "execution_count": 20,
   "metadata": {},
   "outputs": [],
   "source": [
    "def sort_marks(df, mark: int):\n",
    "    return df[df.marks == f'{mark}']"
   ]
  },
  {
   "cell_type": "code",
   "execution_count": 22,
   "metadata": {},
   "outputs": [
    {
     "name": "stdout",
     "output_type": "stream",
     "text": [
      "Сортировка по метке\n",
      "                                       absolute_path class_ marks  height  \\\n",
      "0     C:\\Users\\misha\\third_lab1\\dataset\\cat\\0001.jpg    cat     0     319   \n",
      "1     C:\\Users\\misha\\third_lab1\\dataset\\cat\\0002.jpg    cat     0     320   \n",
      "2     C:\\Users\\misha\\third_lab1\\dataset\\cat\\0003.jpg    cat     0     300   \n",
      "3     C:\\Users\\misha\\third_lab1\\dataset\\cat\\0004.jpg    cat     0     320   \n",
      "4     C:\\Users\\misha\\third_lab1\\dataset\\cat\\0005.jpg    cat     0     320   \n",
      "...                                              ...    ...   ...     ...   \n",
      "1014  C:\\Users\\misha\\third_lab1\\dataset\\cat\\1015.jpg    cat     0     320   \n",
      "1015  C:\\Users\\misha\\third_lab1\\dataset\\cat\\1016.jpg    cat     0     312   \n",
      "1016  C:\\Users\\misha\\third_lab1\\dataset\\cat\\1017.jpg    cat     0     320   \n",
      "1017  C:\\Users\\misha\\third_lab1\\dataset\\cat\\1018.jpg    cat     0     320   \n",
      "1018  C:\\Users\\misha\\third_lab1\\dataset\\cat\\1019.jpg    cat     0     300   \n",
      "\n",
      "      width  channels    size  \n",
      "0       480         3  459360  \n",
      "1       382         3  366720  \n",
      "2       480         3  432000  \n",
      "3       480         3  460800  \n",
      "4       480         3  460800  \n",
      "...     ...       ...     ...  \n",
      "1014    240         3  230400  \n",
      "1015    480         3  449280  \n",
      "1016    213         3  204480  \n",
      "1017    400         3  384000  \n",
      "1018    480         3  432000  \n",
      "\n",
      "[1019 rows x 7 columns]\n"
     ]
    }
   ],
   "source": [
    "df_marks = sort_marks(df, 0)\n",
    "print(\"Сортировка по метке\")\n",
    "print(df_marks)"
   ]
  },
  {
   "cell_type": "markdown",
   "metadata": {},
   "source": [
    "# Пункт 7"
   ]
  },
  {
   "cell_type": "code",
   "execution_count": 24,
   "metadata": {},
   "outputs": [],
   "source": [
    "def sort_max(df, mark: int, max_height: int, max_width):\n",
    "    return df[((df.marks == f'{mark}') & (df.height < max_height) & (df.width < max_width))]"
   ]
  },
  {
   "cell_type": "code",
   "execution_count": 25,
   "metadata": {},
   "outputs": [
    {
     "name": "stdout",
     "output_type": "stream",
     "text": [
      "Сортировка по заданым значениям высоты|ширины\n",
      "                                       absolute_path class_ marks  height  \\\n",
      "0     C:\\Users\\misha\\third_lab1\\dataset\\cat\\0001.jpg    cat     0     319   \n",
      "1     C:\\Users\\misha\\third_lab1\\dataset\\cat\\0002.jpg    cat     0     320   \n",
      "2     C:\\Users\\misha\\third_lab1\\dataset\\cat\\0003.jpg    cat     0     300   \n",
      "3     C:\\Users\\misha\\third_lab1\\dataset\\cat\\0004.jpg    cat     0     320   \n",
      "4     C:\\Users\\misha\\third_lab1\\dataset\\cat\\0005.jpg    cat     0     320   \n",
      "...                                              ...    ...   ...     ...   \n",
      "1014  C:\\Users\\misha\\third_lab1\\dataset\\cat\\1015.jpg    cat     0     320   \n",
      "1015  C:\\Users\\misha\\third_lab1\\dataset\\cat\\1016.jpg    cat     0     312   \n",
      "1016  C:\\Users\\misha\\third_lab1\\dataset\\cat\\1017.jpg    cat     0     320   \n",
      "1017  C:\\Users\\misha\\third_lab1\\dataset\\cat\\1018.jpg    cat     0     320   \n",
      "1018  C:\\Users\\misha\\third_lab1\\dataset\\cat\\1019.jpg    cat     0     300   \n",
      "\n",
      "      width  channels    size  \n",
      "0       480         3  459360  \n",
      "1       382         3  366720  \n",
      "2       480         3  432000  \n",
      "3       480         3  460800  \n",
      "4       480         3  460800  \n",
      "...     ...       ...     ...  \n",
      "1014    240         3  230400  \n",
      "1015    480         3  449280  \n",
      "1016    213         3  204480  \n",
      "1017    400         3  384000  \n",
      "1018    480         3  432000  \n",
      "\n",
      "[1019 rows x 7 columns]\n"
     ]
    }
   ],
   "source": [
    "df_max = sort_max(df, 0, 600, 800)\n",
    "print(\"Сортировка по заданым значениям высоты|ширины\")\n",
    "print(df_max)"
   ]
  },
  {
   "cell_type": "markdown",
   "metadata": {},
   "source": [
    "# Пункт 8"
   ]
  },
  {
   "cell_type": "code",
   "execution_count": 26,
   "metadata": {},
   "outputs": [
    {
     "name": "stdout",
     "output_type": "stream",
     "text": [
      "Группировка датафрейма\n",
      "  marks    size                       \n",
      "            max           mean     min\n",
      "0     0  460800  407914.739941  172800\n",
      "1     1  460800  409322.237488  194880\n"
     ]
    }
   ],
   "source": [
    "df2 = df.groupby(['marks']).agg(\n",
    "    {\"size\": [\"max\", \"mean\", \"min\"]}).reset_index()\n",
    "print(\"Группировка датафрейма\")\n",
    "print(df2)"
   ]
  },
  {
   "cell_type": "markdown",
   "metadata": {},
   "source": [
    "# Пункт 9"
   ]
  },
  {
   "cell_type": "code",
   "execution_count": 46,
   "metadata": {},
   "outputs": [],
   "source": [
    "def histograms(df, mark: int):\n",
    "    absolute_path_list = df.absolute_path.tolist()\n",
    "    image = cv2.imread(absolute_path_list[randint(0, 2000)])\n",
    "    color = ('b', 'g', 'r')\n",
    "    for i, col in enumerate(color):\n",
    "        histr = cv2.calcHist([image], [i], None, [256], [0, 256])\n",
    "        plt.plot(list(histr), color=col)\n",
    "        plt.xlim([0, 256])\n",
    "    plt.show()"
   ]
  },
  {
   "cell_type": "markdown",
   "metadata": {},
   "source": [
    "# Пункт 10"
   ]
  },
  {
   "cell_type": "code",
   "execution_count": 51,
   "metadata": {},
   "outputs": [
    {
     "name": "stdout",
     "output_type": "stream",
     "text": [
      "Гистограмма рандомного изображения\n"
     ]
    },
    {
     "data": {
      "image/png": "[encoded data removed]",
      "text/plain": [
       "<Figure size 640x480 with 1 Axes>"
      ]
     },
     "metadata": {},
     "output_type": "display_data"
    }
   ],
   "source": [
    "print(\"Гистограмма рандомного изображения\")\n",
    "histograms(df, 0)"
   ]
  },
  {
   "cell_type": "code",
   "execution_count": null,
   "metadata": {},
   "outputs": [],
   "source": []
  }
 ],
 "metadata": {
  "kernelspec": {
   "display_name": "Python 3.10.8 64-bit (microsoft store)",
   "language": "python",
   "name": "python3"
  },
  "language_info": {
   "codemirror_mode": {
    "name": "ipython",
    "version": 3
   },
   "file_extension": ".py",
   "mimetype": "text/x-python",
   "name": "python",
   "nbconvert_exporter": "python",
   "pygments_lexer": "ipython3",
   "version": "3.10.8"
  },
  "orig_nbformat": 4,
  "vscode": {
   "interpreter": {
    "hash": "4ccd4ee7f46350a564d84a4cb0ee404730356a1688cd25aea291bb14f53e930d"
   }
  }
 },
 "nbformat": 4,
 "nbformat_minor": 2
}
